{
 "cells": [
  {
   "cell_type": "code",
   "execution_count": 1,
   "metadata": {},
   "outputs": [],
   "source": [
    "%load_ext autoreload\n",
    "%autoreload 2"
   ]
  },
  {
   "cell_type": "markdown",
   "metadata": {},
   "source": [
    "## This notebook currently takes all the field-data files and converts them to pickle files\n",
    "\n",
    "This code demands a certain folder structure to be implemented. Every csv file needs to be the only file in a folder that has a name that is specific to the well operation/file.\n",
    "\n",
    "Performing this conversion is loss-less and reduces the file size making for faster file loading.\n",
    "\n",
    "This notebook is attempted to be implemented generally so that one can just add new CSV file to the existing folder to obtain a pickle file for it.\n",
    "\n",
    "Note:\n",
    "\n",
    "Improvements can be made. The code can take into account only csv files, making it possible for other files to exist in the directory such as information about the drilling process.\n",
    "\n",
    "The code can also be made such that it checks if the a file of corresponding foldername exists in the storage directory it skips the pickling as it has already been performed before."
   ]
  },
  {
   "cell_type": "code",
   "execution_count": 2,
   "metadata": {},
   "outputs": [],
   "source": [
    "import numpy as np\n",
    "import pandas as pd\n",
    "from pathlib import Path"
   ]
  },
  {
   "cell_type": "code",
   "execution_count": 3,
   "metadata": {},
   "outputs": [
    {
     "name": "stdout",
     "output_type": "stream",
     "text": [
      "Current working directory:  c:\\Users\\thomaswi\\OneDrive - SINTEF\\Drilling and well\\Code\\CodeForMaster\n"
     ]
    }
   ],
   "source": [
    "import os\n",
    "current_directory = os.getcwd()\n",
    "while current_directory.endswith(\"Notebooks\"):\n",
    "    os.chdir(\"..\")\n",
    "    current_directory = os.getcwd()\n",
    "    print(\"Current working directory: \", current_directory)"
   ]
  },
  {
   "cell_type": "code",
   "execution_count": 4,
   "metadata": {},
   "outputs": [
    {
     "name": "stdout",
     "output_type": "stream",
     "text": [
      "Entering folder: case101\n",
      "Found file: case101_10_seconds.csv\n",
      "Entering folder: case102\n",
      "Found file: case102_10_seconds.csv\n",
      "Entering folder: case103\n",
      "Found file: case103_10_seconds.csv\n",
      "Entering folder: case104\n",
      "Found file: case104_10_seconds.csv\n",
      "Entering folder: case105\n",
      "Found file: case105.csv\n"
     ]
    }
   ],
   "source": [
    "sensor_data_path = Path(\"Data\",\"FieldData\")\n",
    "\n",
    "for folder in sensor_data_path.rglob('*'):\n",
    "    if folder.is_dir():\n",
    "        print(f'Entering folder: {folder.name}')\n",
    "        for file in folder.iterdir():\n",
    "            if file.is_file():\n",
    "                print(f'Found file: {file.name}')\n",
    "                sensor_storage_path = Path(\"Data\",\"FieldDataPickled\")\n",
    "                sensor_storage_path = Path(sensor_storage_path, folder.name)\n",
    "                data_path = Path(sensor_data_path, folder.name, file.name)\n",
    "                sensor_data = pd.read_csv(data_path, sep = \",\", skiprows=[1], index_col = \"TIME\")\n",
    "                pd.to_pickle(sensor_data,sensor_storage_path)\n"
   ]
  }
 ],
 "metadata": {
  "kernelspec": {
   "display_name": "master_thesis",
   "language": "python",
   "name": "python3"
  },
  "language_info": {
   "codemirror_mode": {
    "name": "ipython",
    "version": 3
   },
   "file_extension": ".py",
   "mimetype": "text/x-python",
   "name": "python",
   "nbconvert_exporter": "python",
   "pygments_lexer": "ipython3",
   "version": "3.12.6"
  }
 },
 "nbformat": 4,
 "nbformat_minor": 2
}
