{
 "cells": [
  {
   "cell_type": "code",
   "execution_count": 444,
   "metadata": {},
   "outputs": [
    {
     "name": "stdout",
     "output_type": "stream",
     "text": [
      "The autoreload extension is already loaded. To reload it, use:\n",
      "  %reload_ext autoreload\n"
     ]
    }
   ],
   "source": [
    "%load_ext autoreload\n",
    "%autoreload 2"
   ]
  },
  {
   "cell_type": "code",
   "execution_count": 445,
   "metadata": {},
   "outputs": [],
   "source": [
    "import os\n",
    "current_directory = os.getcwd()\n",
    "while current_directory.endswith(\"Notebooks\"):\n",
    "    os.chdir(\"..\")\n",
    "    current_directory = os.getcwd()\n",
    "    print(\"Current working directory: \", current_directory)"
   ]
  },
  {
   "cell_type": "code",
   "execution_count": 446,
   "metadata": {},
   "outputs": [],
   "source": [
    "import numpy as np\n",
    "import pandas as pd\n",
    "import matplotlib.pyplot as plt\n",
    "import seaborn as sns\n",
    "from pathlib import Path\n",
    "import scipy as sc\n",
    "from utils.filepaths.filepaths import (\n",
    "    FILE_PATH_CASE_101,\n",
    "    FILE_PATH_CASE_101_HFM_T,\n",
    "    FILE_PATH_CASE_101_HFM_T_OBS,\n",
    "    FILE_PATH_CASE_101_HFM_Z,\n",
    "    FILE_PATH_TEST_SET_CASE_101,\n",
    "    RHEOLOGY_DATA_CASE_101_PATH\n",
    ")\n",
    "\n",
    "from utils.utils.utils import (\n",
    "    get_active_drilling_data,\n",
    "    reading_labeled_drill_report_data,\n",
    "    extracting_labeled_data_from_dataframe,\n",
    "    plot_sections,\n",
    "    extract_time_series_from_depth_data_for_given_variables,\n",
    "    get_herschel_bulkley_parameters_from_rheology_file,\n",
    "    get_testing_dataset_from_field_data\n",
    ")\n",
    "\n",
    "sns.set_theme()"
   ]
  },
  {
   "cell_type": "code",
   "execution_count": 447,
   "metadata": {},
   "outputs": [],
   "source": [
    "# Loading files\n",
    "sensor_data = pd.read_pickle(FILE_PATH_CASE_101)\n",
    "# Extracting the dates to consider\n",
    "tstamp_min = '2020-07-23 02:45:00+00:00'\n",
    "tstamp_max = '2020-07-25 02:30:00+00:00'\n",
    "sensor_data = sensor_data.loc[tstamp_min:tstamp_max]\n",
    "# First datapoint was removed during pickling of simdata. Have to so the same here\n",
    "sensor_data = sensor_data.iloc[1:] \n",
    "hfm_data_t = pd.read_pickle(FILE_PATH_CASE_101_HFM_T)\n",
    "hfm_data_t_obs = pd.read_pickle(FILE_PATH_CASE_101_HFM_T_OBS)\n",
    "hfm_data_z = pd.read_pickle(FILE_PATH_CASE_101_HFM_Z)\n"
   ]
  },
  {
   "cell_type": "code",
   "execution_count": 448,
   "metadata": {},
   "outputs": [
    {
     "data": {
      "text/plain": [
       "Index(['Rate_in', 'SPP', 'ECD_bot', 'ECD_shoe', 'P_choke', 'FrontFluid2',\n",
       "       'FrontFluid3', 'FrontFluid4', 'FrontFluid5', 'FrontFluid6', 'totVolInj',\n",
       "       'totStrokes', 'totVolOut', 'pitVol', 'WHP', 'volRateOut', 'dsGap',\n",
       "       'BHP', 'T_bot', 'T_top', 'mdBit', 'ecdAtPos', 'pAtPos', 'TAtPos',\n",
       "       'dsRpm', 'rop', 'xFactor', 'kFactor', 'yCalc', 'yCalcAvg', 'yMeas',\n",
       "       'Pxy', 'Pyy', 'Pa', 'Gel1', 'Gel2', 'Gel3', 'Gel4', 'Gel5', 'ShieldBHA',\n",
       "       'ShieldAnn', 'ShieldRiser', 'CtrBHA', 'CtrAnn', 'CtrRiser',\n",
       "       'CutConsBHA', 'CutConsAnn', 'CutConsRiser', 'ReynBHA', 'ReynAnn',\n",
       "       'ReynRiser', 'TaylBHA', 'TaylAnn', 'TaylRiser', 'RouseBHA', 'RouseAnn',\n",
       "       'RouseRiser', 'voidShoe', 'voidAtBha', 'cutSt', 'vDev', 'pDev',\n",
       "       'mTotMud', 'mFreeGas', 'mDGas', 'qLoss', 'mLost', 'XFactor',\n",
       "       'DSXFactor', 'DensityIn', 'DensityOut', 'incl'],\n",
       "      dtype='object')"
      ]
     },
     "execution_count": 448,
     "metadata": {},
     "output_type": "execute_result"
    }
   ],
   "source": [
    "# Getting the indices for the model data right\n",
    "start_date = '2020-08-17 12:00:10+00:00'\n",
    "date_range = pd.date_range(start = start_date, periods = len(hfm_data_t), freq='10s')\n",
    "hfm_data_t.index = date_range\n",
    "# hfm_data_case_102_t_obs.index = date_range\n",
    "hfm_data_t.head()\n",
    "hfm_data_t.columns"
   ]
  },
  {
   "cell_type": "code",
   "execution_count": 449,
   "metadata": {},
   "outputs": [
    {
     "name": "stdout",
     "output_type": "stream",
     "text": [
      "17190 17190\n"
     ]
    },
    {
     "data": {
      "text/html": [
       "<div>\n",
       "<style scoped>\n",
       "    .dataframe tbody tr th:only-of-type {\n",
       "        vertical-align: middle;\n",
       "    }\n",
       "\n",
       "    .dataframe tbody tr th {\n",
       "        vertical-align: top;\n",
       "    }\n",
       "\n",
       "    .dataframe thead th {\n",
       "        text-align: right;\n",
       "    }\n",
       "</style>\n",
       "<table border=\"1\" class=\"dataframe\">\n",
       "  <thead>\n",
       "    <tr style=\"text-align: right;\">\n",
       "      <th></th>\n",
       "      <th>ASMDEP1-T</th>\n",
       "      <th>ASMECD1-T</th>\n",
       "      <th>ASMDEP2-T</th>\n",
       "      <th>ASMECD2-T</th>\n",
       "      <th>ASMDEP3-T</th>\n",
       "      <th>ASMDOFF-T</th>\n",
       "      <th>DHT001 Temp PCB Mean</th>\n",
       "      <th>ASMTVD1-T</th>\n",
       "      <th>ASMTVD2-T</th>\n",
       "      <th>ASMTVD3-T</th>\n",
       "      <th>...</th>\n",
       "      <th>RPMPerStand</th>\n",
       "      <th>TqavPerStand</th>\n",
       "      <th>WOBRotPerStand</th>\n",
       "      <th>WOBPerStand</th>\n",
       "      <th>TqavPerStandRot</th>\n",
       "      <th>FlowPerStand</th>\n",
       "      <th>RPMPerStandRot</th>\n",
       "      <th>RDGDTVSS-Relog</th>\n",
       "      <th>AllSlidingRopPerStand</th>\n",
       "      <th>TqavPerStandSl</th>\n",
       "    </tr>\n",
       "    <tr>\n",
       "      <th>TIME</th>\n",
       "      <th></th>\n",
       "      <th></th>\n",
       "      <th></th>\n",
       "      <th></th>\n",
       "      <th></th>\n",
       "      <th></th>\n",
       "      <th></th>\n",
       "      <th></th>\n",
       "      <th></th>\n",
       "      <th></th>\n",
       "      <th></th>\n",
       "      <th></th>\n",
       "      <th></th>\n",
       "      <th></th>\n",
       "      <th></th>\n",
       "      <th></th>\n",
       "      <th></th>\n",
       "      <th></th>\n",
       "      <th></th>\n",
       "      <th></th>\n",
       "      <th></th>\n",
       "    </tr>\n",
       "  </thead>\n",
       "  <tbody>\n",
       "    <tr>\n",
       "      <th>2020-07-23 02:45:10+00:00</th>\n",
       "      <td>272.810000</td>\n",
       "      <td>1.332205</td>\n",
       "      <td>-613.861429</td>\n",
       "      <td>1.451468</td>\n",
       "      <td>-1385.245000</td>\n",
       "      <td>-184.820007</td>\n",
       "      <td>16.0</td>\n",
       "      <td>272.789998</td>\n",
       "      <td>0.36</td>\n",
       "      <td>0.45</td>\n",
       "      <td>...</td>\n",
       "      <td>12.32</td>\n",
       "      <td>21316.99</td>\n",
       "      <td>4906.12</td>\n",
       "      <td>4906.12</td>\n",
       "      <td>21316.99</td>\n",
       "      <td>0.04</td>\n",
       "      <td>12.32</td>\n",
       "      <td>80.0</td>\n",
       "      <td>52.33</td>\n",
       "      <td>46742.43</td>\n",
       "    </tr>\n",
       "    <tr>\n",
       "      <th>2020-07-23 02:45:20+00:00</th>\n",
       "      <td>272.810000</td>\n",
       "      <td>1.332205</td>\n",
       "      <td>-613.850000</td>\n",
       "      <td>1.451468</td>\n",
       "      <td>-1385.230000</td>\n",
       "      <td>-184.820007</td>\n",
       "      <td>16.0</td>\n",
       "      <td>272.789998</td>\n",
       "      <td>0.36</td>\n",
       "      <td>0.45</td>\n",
       "      <td>...</td>\n",
       "      <td>12.32</td>\n",
       "      <td>21316.99</td>\n",
       "      <td>4906.12</td>\n",
       "      <td>4906.12</td>\n",
       "      <td>21316.99</td>\n",
       "      <td>0.04</td>\n",
       "      <td>12.32</td>\n",
       "      <td>80.0</td>\n",
       "      <td>52.33</td>\n",
       "      <td>46742.43</td>\n",
       "    </tr>\n",
       "    <tr>\n",
       "      <th>2020-07-23 02:45:30+00:00</th>\n",
       "      <td>272.823333</td>\n",
       "      <td>1.332205</td>\n",
       "      <td>-613.846667</td>\n",
       "      <td>1.451468</td>\n",
       "      <td>-1385.225000</td>\n",
       "      <td>-184.820007</td>\n",
       "      <td>16.0</td>\n",
       "      <td>272.803324</td>\n",
       "      <td>0.36</td>\n",
       "      <td>0.45</td>\n",
       "      <td>...</td>\n",
       "      <td>12.32</td>\n",
       "      <td>21316.99</td>\n",
       "      <td>4906.12</td>\n",
       "      <td>4906.12</td>\n",
       "      <td>21316.99</td>\n",
       "      <td>0.04</td>\n",
       "      <td>12.32</td>\n",
       "      <td>80.0</td>\n",
       "      <td>52.33</td>\n",
       "      <td>46742.43</td>\n",
       "    </tr>\n",
       "    <tr>\n",
       "      <th>2020-07-23 02:45:40+00:00</th>\n",
       "      <td>272.842500</td>\n",
       "      <td>1.332205</td>\n",
       "      <td>-613.825000</td>\n",
       "      <td>1.451468</td>\n",
       "      <td>-1385.206667</td>\n",
       "      <td>-184.820007</td>\n",
       "      <td>16.0</td>\n",
       "      <td>272.822495</td>\n",
       "      <td>0.36</td>\n",
       "      <td>0.45</td>\n",
       "      <td>...</td>\n",
       "      <td>12.32</td>\n",
       "      <td>21316.99</td>\n",
       "      <td>4906.12</td>\n",
       "      <td>4906.12</td>\n",
       "      <td>21316.99</td>\n",
       "      <td>0.04</td>\n",
       "      <td>12.32</td>\n",
       "      <td>80.0</td>\n",
       "      <td>52.33</td>\n",
       "      <td>46742.43</td>\n",
       "    </tr>\n",
       "    <tr>\n",
       "      <th>2020-07-23 02:45:50+00:00</th>\n",
       "      <td>272.862500</td>\n",
       "      <td>1.332205</td>\n",
       "      <td>-613.803333</td>\n",
       "      <td>1.451468</td>\n",
       "      <td>-1385.185000</td>\n",
       "      <td>-184.820007</td>\n",
       "      <td>16.0</td>\n",
       "      <td>272.842499</td>\n",
       "      <td>0.36</td>\n",
       "      <td>0.45</td>\n",
       "      <td>...</td>\n",
       "      <td>12.32</td>\n",
       "      <td>21316.99</td>\n",
       "      <td>4906.12</td>\n",
       "      <td>4906.12</td>\n",
       "      <td>21316.99</td>\n",
       "      <td>0.04</td>\n",
       "      <td>12.32</td>\n",
       "      <td>80.0</td>\n",
       "      <td>52.33</td>\n",
       "      <td>46742.43</td>\n",
       "    </tr>\n",
       "  </tbody>\n",
       "</table>\n",
       "<p>5 rows × 186 columns</p>\n",
       "</div>"
      ],
      "text/plain": [
       "                            ASMDEP1-T  ASMECD1-T   ASMDEP2-T  ASMECD2-T  \\\n",
       "TIME                                                                      \n",
       "2020-07-23 02:45:10+00:00  272.810000   1.332205 -613.861429   1.451468   \n",
       "2020-07-23 02:45:20+00:00  272.810000   1.332205 -613.850000   1.451468   \n",
       "2020-07-23 02:45:30+00:00  272.823333   1.332205 -613.846667   1.451468   \n",
       "2020-07-23 02:45:40+00:00  272.842500   1.332205 -613.825000   1.451468   \n",
       "2020-07-23 02:45:50+00:00  272.862500   1.332205 -613.803333   1.451468   \n",
       "\n",
       "                             ASMDEP3-T   ASMDOFF-T  DHT001 Temp PCB Mean  \\\n",
       "TIME                                                                       \n",
       "2020-07-23 02:45:10+00:00 -1385.245000 -184.820007                  16.0   \n",
       "2020-07-23 02:45:20+00:00 -1385.230000 -184.820007                  16.0   \n",
       "2020-07-23 02:45:30+00:00 -1385.225000 -184.820007                  16.0   \n",
       "2020-07-23 02:45:40+00:00 -1385.206667 -184.820007                  16.0   \n",
       "2020-07-23 02:45:50+00:00 -1385.185000 -184.820007                  16.0   \n",
       "\n",
       "                            ASMTVD1-T  ASMTVD2-T  ASMTVD3-T  ...  RPMPerStand  \\\n",
       "TIME                                                         ...                \n",
       "2020-07-23 02:45:10+00:00  272.789998       0.36       0.45  ...        12.32   \n",
       "2020-07-23 02:45:20+00:00  272.789998       0.36       0.45  ...        12.32   \n",
       "2020-07-23 02:45:30+00:00  272.803324       0.36       0.45  ...        12.32   \n",
       "2020-07-23 02:45:40+00:00  272.822495       0.36       0.45  ...        12.32   \n",
       "2020-07-23 02:45:50+00:00  272.842499       0.36       0.45  ...        12.32   \n",
       "\n",
       "                           TqavPerStand  WOBRotPerStand  WOBPerStand  \\\n",
       "TIME                                                                   \n",
       "2020-07-23 02:45:10+00:00      21316.99         4906.12      4906.12   \n",
       "2020-07-23 02:45:20+00:00      21316.99         4906.12      4906.12   \n",
       "2020-07-23 02:45:30+00:00      21316.99         4906.12      4906.12   \n",
       "2020-07-23 02:45:40+00:00      21316.99         4906.12      4906.12   \n",
       "2020-07-23 02:45:50+00:00      21316.99         4906.12      4906.12   \n",
       "\n",
       "                           TqavPerStandRot  FlowPerStand  RPMPerStandRot  \\\n",
       "TIME                                                                       \n",
       "2020-07-23 02:45:10+00:00         21316.99          0.04           12.32   \n",
       "2020-07-23 02:45:20+00:00         21316.99          0.04           12.32   \n",
       "2020-07-23 02:45:30+00:00         21316.99          0.04           12.32   \n",
       "2020-07-23 02:45:40+00:00         21316.99          0.04           12.32   \n",
       "2020-07-23 02:45:50+00:00         21316.99          0.04           12.32   \n",
       "\n",
       "                           RDGDTVSS-Relog  AllSlidingRopPerStand  \\\n",
       "TIME                                                               \n",
       "2020-07-23 02:45:10+00:00            80.0                  52.33   \n",
       "2020-07-23 02:45:20+00:00            80.0                  52.33   \n",
       "2020-07-23 02:45:30+00:00            80.0                  52.33   \n",
       "2020-07-23 02:45:40+00:00            80.0                  52.33   \n",
       "2020-07-23 02:45:50+00:00            80.0                  52.33   \n",
       "\n",
       "                           TqavPerStandSl  \n",
       "TIME                                       \n",
       "2020-07-23 02:45:10+00:00        46742.43  \n",
       "2020-07-23 02:45:20+00:00        46742.43  \n",
       "2020-07-23 02:45:30+00:00        46742.43  \n",
       "2020-07-23 02:45:40+00:00        46742.43  \n",
       "2020-07-23 02:45:50+00:00        46742.43  \n",
       "\n",
       "[5 rows x 186 columns]"
      ]
     },
     "execution_count": 449,
     "metadata": {},
     "output_type": "execute_result"
    }
   ],
   "source": [
    "print(len(sensor_data), len(hfm_data_t))\n",
    "sensor_data.head()"
   ]
  },
  {
   "cell_type": "code",
   "execution_count": 450,
   "metadata": {},
   "outputs": [],
   "source": [
    "\n",
    "# sensor_data_case_102, hfm_data_case_102_t = get_active_drilling_data(sensor_data_case_102, hfm_data_case_102_t, include_rop_zeros=True)\n",
    "# Wait to get obs data. Not sure if it is necassary\n",
    "# hfm_data_case_102_t_obs = hfm_data_case_102_t_obs.loc[hfm_data_case_102_t.index]"
   ]
  },
  {
   "cell_type": "code",
   "execution_count": 451,
   "metadata": {},
   "outputs": [
    {
     "name": "stdout",
     "output_type": "stream",
     "text": [
      "17190 17190 17190\n"
     ]
    }
   ],
   "source": [
    "print(len(sensor_data), len(hfm_data_t),len(hfm_data_t_obs))\n",
    "hfm_data_t.index = sensor_data.index\n",
    "hfm_data_t_obs.index = sensor_data.index"
   ]
  },
  {
   "cell_type": "code",
   "execution_count": 452,
   "metadata": {},
   "outputs": [],
   "source": [
    "# depth_data_columns = hfm_data_z.columns\n",
    "# depth_data_columns\n"
   ]
  },
  {
   "cell_type": "code",
   "execution_count": 453,
   "metadata": {},
   "outputs": [],
   "source": [
    "# First element of touple is the depth data file\n",
    "depth_data = hfm_data_z[0] \n",
    "#Second element contain the columns\n",
    "depth_data_columns = hfm_data_z[1]\n"
   ]
  },
  {
   "cell_type": "code",
   "execution_count": 454,
   "metadata": {},
   "outputs": [
    {
     "name": "stdout",
     "output_type": "stream",
     "text": [
      "['time', 'loc', 'mdOut', 'mdIn', 'pOut/pBar', 'ecdOut', 'dpf', 'reyn', 'tayl', 'shieldsNum', 'rouseNum', 'avgDensity', 'mudMass', 'cuttMass', 'vL', 'vG', 'vC', 'TOut']\n",
      "18\n"
     ]
    }
   ],
   "source": [
    "print(depth_data_columns)\n",
    "print(len(depth_data))"
   ]
  },
  {
   "cell_type": "code",
   "execution_count": 455,
   "metadata": {},
   "outputs": [
    {
     "name": "stderr",
     "output_type": "stream",
     "text": [
      "c:\\Users\\thomaswi\\AppData\\Local\\miniconda3\\envs\\master_thesis\\Lib\\site-packages\\pandas\\core\\arraylike.py:399: RuntimeWarning: invalid value encountered in arccos\n",
      "  result = getattr(ufunc, method)(*inputs, **kwargs)\n"
     ]
    }
   ],
   "source": [
    "inclination = np.arccos(hfm_data_t_obs[\"TvdAtPpos1\"].diff() /  hfm_data_t[\"mdBit\"].diff()) * 180 / np.pi\n",
    "asm_sensor_2 = sensor_data[\"ASMDEP2-T\"]"
   ]
  },
  {
   "cell_type": "code",
   "execution_count": 456,
   "metadata": {},
   "outputs": [],
   "source": [
    "values_for_position = extract_time_series_from_depth_data_for_given_variables(depth_data=depth_data, position_for_time_series=asm_sensor_2.values,columns=depth_data_columns)"
   ]
  },
  {
   "cell_type": "code",
   "execution_count": 457,
   "metadata": {},
   "outputs": [
    {
     "data": {
      "image/png": "[encoded data removed]",
      "text/plain": [
       "<Figure size 640x480 with 1 Axes>"
      ]
     },
     "metadata": {},
     "output_type": "display_data"
    }
   ],
   "source": [
    "plt.plot(values_for_position[\"reyn\"])\n",
    "plt.show()"
   ]
  },
  {
   "cell_type": "code",
   "execution_count": 458,
   "metadata": {},
   "outputs": [
    {
     "name": "stderr",
     "output_type": "stream",
     "text": [
      "C:\\Users\\thomaswi\\AppData\\Local\\Temp\\ipykernel_21512\\1559830564.py:13: RuntimeWarning: divide by zero encountered in divide\n",
      "  fanning = DH * pressure_gradient / (2 * fluid_density * liquid_velocities**2)\n"
     ]
    }
   ],
   "source": [
    "# m / s^2\n",
    "gravitational_constant = 9.80\n",
    "# m\n",
    "DH = 0.06985\n",
    "# m\n",
    "charecteristic_length = 0\n",
    "liquid_velocities = values_for_position[\"vL\"]\n",
    "pressure_gradient = values_for_position[\"dpf\"]\n",
    "# Unsure if this densisty value is the correct one\n",
    "fluid_density = values_for_position[\"avgDensity\"]\n",
    "pressure = values_for_position[\"pOut/pBar\"]\n",
    "# Value blows up when there is little flow. Don't think this will be a problem during steady state conditions\n",
    "fanning = DH * pressure_gradient / (2 * fluid_density * liquid_velocities**2)\n",
    "values_for_position[\"Friction factor\"] = fanning\n"
   ]
  },
  {
   "cell_type": "code",
   "execution_count": 459,
   "metadata": {},
   "outputs": [],
   "source": [
    "indices = [2200,4200,7600]\n"
   ]
  },
  {
   "cell_type": "code",
   "execution_count": 460,
   "metadata": {},
   "outputs": [],
   "source": [
    "values_for_position_df = pd.DataFrame(values_for_position)\n",
    "values_for_position_df.index = sensor_data.index\n",
    "drilling_sensor_data, values_for_position_df = get_active_drilling_data(sensor_data, sim_df=values_for_position_df ,include_rop_zeros=True)"
   ]
  },
  {
   "cell_type": "code",
   "execution_count": 461,
   "metadata": {},
   "outputs": [
    {
     "name": "stdout",
     "output_type": "stream",
     "text": [
      "10608\n"
     ]
    },
    {
     "data": {
      "text/plain": [
       "[<matplotlib.lines.Line2D at 0x17fffbbcda0>]"
      ]
     },
     "execution_count": 461,
     "metadata": {},
     "output_type": "execute_result"
    },
    {
     "data": {
      "image/png": "[encoded data removed]",
      "text/plain": [
       "<Figure size 640x480 with 1 Axes>"
      ]
     },
     "metadata": {},
     "output_type": "display_data"
    }
   ],
   "source": [
    "print(len(drilling_sensor_data))\n",
    "plt.plot(values_for_position_df[\"Friction factor\"].values)"
   ]
  },
  {
   "cell_type": "code",
   "execution_count": 462,
   "metadata": {},
   "outputs": [
    {
     "data": {
      "text/html": [
       "<div>\n",
       "<style scoped>\n",
       "    .dataframe tbody tr th:only-of-type {\n",
       "        vertical-align: middle;\n",
       "    }\n",
       "\n",
       "    .dataframe tbody tr th {\n",
       "        vertical-align: top;\n",
       "    }\n",
       "\n",
       "    .dataframe thead th {\n",
       "        text-align: right;\n",
       "    }\n",
       "</style>\n",
       "<table border=\"1\" class=\"dataframe\">\n",
       "  <thead>\n",
       "    <tr style=\"text-align: right;\">\n",
       "      <th></th>\n",
       "      <th>Temperature</th>\n",
       "      <th>Pressure</th>\n",
       "      <th>Consistency index (K)</th>\n",
       "      <th>Yield stress (tau_y)</th>\n",
       "      <th>Flow behaviour index (n)</th>\n",
       "    </tr>\n",
       "  </thead>\n",
       "  <tbody>\n",
       "    <tr>\n",
       "      <th>0</th>\n",
       "      <td>50.0</td>\n",
       "      <td>1.0</td>\n",
       "      <td>0.958735</td>\n",
       "      <td>0.044013</td>\n",
       "      <td>0.873375</td>\n",
       "    </tr>\n",
       "    <tr>\n",
       "      <th>1</th>\n",
       "      <td>50.0</td>\n",
       "      <td>103.0</td>\n",
       "      <td>1.185470</td>\n",
       "      <td>0.027074</td>\n",
       "      <td>0.960688</td>\n",
       "    </tr>\n",
       "    <tr>\n",
       "      <th>2</th>\n",
       "      <td>70.0</td>\n",
       "      <td>138.0</td>\n",
       "      <td>1.414590</td>\n",
       "      <td>0.037418</td>\n",
       "      <td>0.895384</td>\n",
       "    </tr>\n",
       "    <tr>\n",
       "      <th>3</th>\n",
       "      <td>70.0</td>\n",
       "      <td>172.0</td>\n",
       "      <td>1.410800</td>\n",
       "      <td>0.039181</td>\n",
       "      <td>0.896108</td>\n",
       "    </tr>\n",
       "    <tr>\n",
       "      <th>4</th>\n",
       "      <td>100.0</td>\n",
       "      <td>207.0</td>\n",
       "      <td>1.718600</td>\n",
       "      <td>0.049447</td>\n",
       "      <td>0.850131</td>\n",
       "    </tr>\n",
       "    <tr>\n",
       "      <th>5</th>\n",
       "      <td>100.0</td>\n",
       "      <td>241.0</td>\n",
       "      <td>1.653350</td>\n",
       "      <td>0.038693</td>\n",
       "      <td>0.893673</td>\n",
       "    </tr>\n",
       "    <tr>\n",
       "      <th>6</th>\n",
       "      <td>120.0</td>\n",
       "      <td>276.0</td>\n",
       "      <td>1.592610</td>\n",
       "      <td>0.048652</td>\n",
       "      <td>0.845525</td>\n",
       "    </tr>\n",
       "    <tr>\n",
       "      <th>7</th>\n",
       "      <td>120.0</td>\n",
       "      <td>310.0</td>\n",
       "      <td>1.544660</td>\n",
       "      <td>0.035205</td>\n",
       "      <td>0.895552</td>\n",
       "    </tr>\n",
       "    <tr>\n",
       "      <th>8</th>\n",
       "      <td>120.0</td>\n",
       "      <td>345.0</td>\n",
       "      <td>1.407300</td>\n",
       "      <td>0.034718</td>\n",
       "      <td>0.887522</td>\n",
       "    </tr>\n",
       "    <tr>\n",
       "      <th>9</th>\n",
       "      <td>120.0</td>\n",
       "      <td>414.0</td>\n",
       "      <td>1.391150</td>\n",
       "      <td>0.033585</td>\n",
       "      <td>0.901169</td>\n",
       "    </tr>\n",
       "  </tbody>\n",
       "</table>\n",
       "</div>"
      ],
      "text/plain": [
       "   Temperature  Pressure  Consistency index (K)  Yield stress (tau_y)  \\\n",
       "0         50.0       1.0               0.958735              0.044013   \n",
       "1         50.0     103.0               1.185470              0.027074   \n",
       "2         70.0     138.0               1.414590              0.037418   \n",
       "3         70.0     172.0               1.410800              0.039181   \n",
       "4        100.0     207.0               1.718600              0.049447   \n",
       "5        100.0     241.0               1.653350              0.038693   \n",
       "6        120.0     276.0               1.592610              0.048652   \n",
       "7        120.0     310.0               1.544660              0.035205   \n",
       "8        120.0     345.0               1.407300              0.034718   \n",
       "9        120.0     414.0               1.391150              0.033585   \n",
       "\n",
       "   Flow behaviour index (n)  \n",
       "0                  0.873375  \n",
       "1                  0.960688  \n",
       "2                  0.895384  \n",
       "3                  0.896108  \n",
       "4                  0.850131  \n",
       "5                  0.893673  \n",
       "6                  0.845525  \n",
       "7                  0.895552  \n",
       "8                  0.887522  \n",
       "9                  0.901169  "
      ]
     },
     "execution_count": 462,
     "metadata": {},
     "output_type": "execute_result"
    }
   ],
   "source": [
    "hb_parameters = get_herschel_bulkley_parameters_from_rheology_file(RHEOLOGY_DATA_CASE_101_PATH) \n",
    "hb_parameters.head(11)    \n"
   ]
  },
  {
   "cell_type": "code",
   "execution_count": 463,
   "metadata": {},
   "outputs": [
    {
     "name": "stdout",
     "output_type": "stream",
     "text": [
      "Min and max temp:  57.115062554225226 75.0054964028777\n",
      "Min and max pressure:  219.47399336283186 269.0726840066408\n",
      "17190\n",
      "10608\n"
     ]
    }
   ],
   "source": [
    "values_for_position_df.head()\n",
    "yield_stress = []\n",
    "consistency_index = []\n",
    "flow_behaviour_index = []\n",
    "temperature_regions = values_for_position_df[\"TOut\"].apply(lambda x: 1 if x > 60 else 0)\n",
    "hb_parameters_for_case = np.array([hb_parameters.loc[2] if t_region == 1 else hb_parameters.loc[1] for t_region in temperature_regions])\n",
    "\n",
    "print('Min and max temp: ',values_for_position_df[\"TOut\"].min(),values_for_position_df[\"TOut\"].max())\n",
    "print('Min and max pressure: ',values_for_position_df[\"pOut/pBar\"].min(),values_for_position_df[\"pOut/pBar\"].max()) \n",
    "\n",
    "print(len(liquid_velocities))\n",
    "print(len(hb_parameters_for_case))\n",
    "    "
   ]
  },
  {
   "cell_type": "code",
   "execution_count": 464,
   "metadata": {},
   "outputs": [
    {
     "name": "stderr",
     "output_type": "stream",
     "text": [
      "C:\\Users\\thomaswi\\AppData\\Local\\Temp\\ipykernel_21512\\725129836.py:1: RuntimeWarning: invalid value encountered in power\n",
      "  values_for_position_df[\"Bingham number\"]= np.array([hb_parameters_for_case[idx,-2] /(hb_parameters_for_case[idx,-3] * (2*U/DH)**hb_parameters_for_case[idx,-1]) for idx, U in enumerate(values_for_position_df[\"vL\"])])\n"
     ]
    }
   ],
   "source": [
    "values_for_position_df[\"Bingham number\"]= np.array([hb_parameters_for_case[idx,-2] /(hb_parameters_for_case[idx,-3] * (2*U/DH)**hb_parameters_for_case[idx,-1]) for idx, U in enumerate(values_for_position_df[\"vL\"])])\n",
    "values_for_position_df[\"reyn/tayl\"] = values_for_position_df[\"reyn\"] / values_for_position_df[\"tayl\"]\n",
    "values_for_position_df[\"reyn by bingham\"] = values_for_position_df[\"reyn\"] * values_for_position_df[\"Bingham number\"]\n",
    "values_for_position_df[\"tayl by bingham\"] = values_for_position_df[\"tayl\"] * values_for_position_df[\"Bingham number\"]\n",
    "values_for_position_df[\"reyn/friction fac\"] = values_for_position_df[\"reyn\"] / values_for_position_df[\"Friction factor\"]"
   ]
  },
  {
   "cell_type": "code",
   "execution_count": 465,
   "metadata": {},
   "outputs": [
    {
     "data": {
      "text/plain": [
       "[<matplotlib.lines.Line2D at 0x17fffc6f710>]"
      ]
     },
     "execution_count": 465,
     "metadata": {},
     "output_type": "execute_result"
    },
    {
     "data": {
      "image/png": "[encoded data removed]",
      "text/plain": [
       "<Figure size 640x480 with 1 Axes>"
      ]
     },
     "metadata": {},
     "output_type": "display_data"
    }
   ],
   "source": [
    "plt.plot(values_for_position_df[\"reyn/tayl\"].values)"
   ]
  },
  {
   "cell_type": "code",
   "execution_count": 466,
   "metadata": {},
   "outputs": [],
   "source": [
    "# The annulus is assumed fully eccentric when inclination is 90 degrees\n",
    "# Inclination can take values of 45, 60 and 90 degrees\n",
    "# Plot indicates that the inclination is mostly close to or is 90 degrees\n",
    "variables_1 = [\"reyn\",\"tayl\",\"Bingham number\",\"Friction factor\"]\n",
    "variables_2 = [\"reyn/tayl\", \"tayl by bingham\", \"reyn/friction fac\"]\n",
    "variables = variables_2\n",
    "df_of_variables_at_points = get_testing_dataset_from_field_data(df=values_for_position_df,variables=variables,indices=indices,ecccentricty=None,inclination=None, fluid_type = None)\n"
   ]
  },
  {
   "cell_type": "code",
   "execution_count": 467,
   "metadata": {},
   "outputs": [
    {
     "data": {
      "text/html": [
       "<div>\n",
       "<style scoped>\n",
       "    .dataframe tbody tr th:only-of-type {\n",
       "        vertical-align: middle;\n",
       "    }\n",
       "\n",
       "    .dataframe tbody tr th {\n",
       "        vertical-align: top;\n",
       "    }\n",
       "\n",
       "    .dataframe thead th {\n",
       "        text-align: right;\n",
       "    }\n",
       "</style>\n",
       "<table border=\"1\" class=\"dataframe\">\n",
       "  <thead>\n",
       "    <tr style=\"text-align: right;\">\n",
       "      <th></th>\n",
       "      <th>reyn/tayl</th>\n",
       "      <th>tayl by bingham</th>\n",
       "      <th>reyn/friction fac</th>\n",
       "    </tr>\n",
       "  </thead>\n",
       "  <tbody>\n",
       "    <tr>\n",
       "      <th>2200</th>\n",
       "      <td>2.603014</td>\n",
       "      <td>1.203962</td>\n",
       "      <td>444110.836619</td>\n",
       "    </tr>\n",
       "    <tr>\n",
       "      <th>4200</th>\n",
       "      <td>1.410868</td>\n",
       "      <td>2.181072</td>\n",
       "      <td>411358.192780</td>\n",
       "    </tr>\n",
       "    <tr>\n",
       "      <th>7600</th>\n",
       "      <td>1.339284</td>\n",
       "      <td>2.164564</td>\n",
       "      <td>359249.169751</td>\n",
       "    </tr>\n",
       "  </tbody>\n",
       "</table>\n",
       "</div>"
      ],
      "text/plain": [
       "      reyn/tayl  tayl by bingham  reyn/friction fac\n",
       "2200   2.603014         1.203962      444110.836619\n",
       "4200   1.410868         2.181072      411358.192780\n",
       "7600   1.339284         2.164564      359249.169751"
      ]
     },
     "execution_count": 467,
     "metadata": {},
     "output_type": "execute_result"
    }
   ],
   "source": [
    "# Order is important due to the machine learning algorithms\n",
    "df_of_variables_at_points = df_of_variables_at_points[variables]\n",
    "df_of_variables_at_points.head()"
   ]
  },
  {
   "cell_type": "code",
   "execution_count": 468,
   "metadata": {},
   "outputs": [
    {
     "data": {
      "image/png": "[encoded data removed]",
      "text/plain": [
       "<Figure size 640x480 with 1 Axes>"
      ]
     },
     "metadata": {},
     "output_type": "display_data"
    },
    {
     "data": {
      "image/png": "[encoded data removed]",
      "text/plain": [
       "<Figure size 640x480 with 1 Axes>"
      ]
     },
     "metadata": {},
     "output_type": "display_data"
    },
    {
     "data": {
      "image/png": "[encoded data removed]",
      "text/plain": [
       "<Figure size 640x480 with 1 Axes>"
      ]
     },
     "metadata": {},
     "output_type": "display_data"
    }
   ],
   "source": [
    "x = np.arange(0,len(df_of_variables_at_points),1)\n",
    "for key,value in df_of_variables_at_points.items():\n",
    "    plt.title(f'{key}')\n",
    "    plt.scatter(x,value.values)\n",
    "    plt.show()\n",
    "    "
   ]
  },
  {
   "cell_type": "code",
   "execution_count": 469,
   "metadata": {},
   "outputs": [],
   "source": [
    "df_of_variables_at_points.to_pickle(FILE_PATH_TEST_SET_CASE_101)"
   ]
  }
 ],
 "metadata": {
  "kernelspec": {
   "display_name": "master_thesis",
   "language": "python",
   "name": "python3"
  },
  "language_info": {
   "codemirror_mode": {
    "name": "ipython",
    "version": 3
   },
   "file_extension": ".py",
   "mimetype": "text/x-python",
   "name": "python",
   "nbconvert_exporter": "python",
   "pygments_lexer": "ipython3",
   "version": "3.12.6"
  }
 },
 "nbformat": 4,
 "nbformat_minor": 2
}
