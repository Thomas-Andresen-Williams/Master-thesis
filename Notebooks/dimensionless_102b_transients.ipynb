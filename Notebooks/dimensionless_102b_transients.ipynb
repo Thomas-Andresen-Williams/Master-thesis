{
 "cells": [
  {
   "cell_type": "code",
   "execution_count": 1,
   "metadata": {},
   "outputs": [],
   "source": [
    "%load_ext autoreload\n",
    "%autoreload 2"
   ]
  },
  {
   "cell_type": "code",
   "execution_count": 2,
   "metadata": {},
   "outputs": [
    {
     "name": "stdout",
     "output_type": "stream",
     "text": [
      "Current working directory:  c:\\Users\\thomaswi\\OneDrive - SINTEF\\Drilling and well\\Code\\CodeForMaster\n"
     ]
    }
   ],
   "source": [
    "import os\n",
    "current_directory = os.getcwd()\n",
    "while current_directory.endswith(\"Notebooks\"):\n",
    "    os.chdir(\"..\")\n",
    "    current_directory = os.getcwd()\n",
    "    print(\"Current working directory: \", current_directory)"
   ]
  },
  {
   "cell_type": "code",
   "execution_count": 3,
   "metadata": {},
   "outputs": [],
   "source": [
    "import numpy as np\n",
    "import pandas as pd\n",
    "import matplotlib.pyplot as plt\n",
    "import seaborn as sns\n",
    "from pathlib import Path\n",
    "import pickle\n",
    "from utils.filepaths.filepaths import (\n",
    "    FILE_PATH_CASE_102,\n",
    "    FILE_PATH_CASE_102b_HFM_T,\n",
    "    FILE_PATH_CASE_102b_HFM_T_OBS,\n",
    "    FILE_PATH_CASE_102b_HFM_Z,\n",
    "    RHEOLOGY_DATA_CASE_102_PATH,\n",
    "    FILE_PATH_TRANSIENT_TRAINING_DATA_102b_FEATURES,\n",
    "    FILE_PATH_TRANSIENT_TRAINING_DATA_102b_TARGETS,\n",
    "    FILE_PATH_TRANSIENT_OTHER_VARIABLES_102b\n",
    ")\n",
    "\n",
    "from utils.utils.utils import (\n",
    "    get_active_drilling_data,\n",
    "    reading_labeled_drill_report_data,\n",
    "    extracting_labeled_data_from_dataframe,\n",
    "    plot_sections,\n",
    "    map_pars_t_z,\n",
    "    extract_time_series_from_depth_data_for_given_variables,\n",
    "    get_herschel_bulkley_parameters_from_rheology_file,\n",
    "    get_training_dataset_from_field_data_transients\n",
    ")\n",
    "\n",
    "sns.set_theme()"
   ]
  },
  {
   "cell_type": "code",
   "execution_count": 4,
   "metadata": {},
   "outputs": [],
   "source": [
    "# Loading files\n",
    "sensor_data_case_102 = pd.read_pickle(FILE_PATH_CASE_102)\n",
    "# Extracting the dates to consider\n",
    "tstamp_min = '2020-08-13 16:20:00+00:00'\n",
    "tstamp_max = '2020-08-15 01:40:00+00:00'\n",
    "sensor_data_case_102 = sensor_data_case_102.loc[tstamp_min:tstamp_max]\n",
    "# First datapoint was removed during pickling of simdata. Have to so the same here\n",
    "sensor_data_case_102 = sensor_data_case_102.iloc[1:] \n",
    "hfm_data_case_102_t = pd.read_pickle(FILE_PATH_CASE_102b_HFM_T)\n",
    "hfm_data_case_102_t_obs = pd.read_pickle(FILE_PATH_CASE_102b_HFM_T_OBS)\n",
    "hfm_data_case_102_z = pd.read_pickle(FILE_PATH_CASE_102b_HFM_Z)\n"
   ]
  },
  {
   "cell_type": "code",
   "execution_count": 5,
   "metadata": {},
   "outputs": [
    {
     "data": {
      "text/plain": [
       "Index(['Rate_in', 'SPP', 'ECD_bot', 'ECD_shoe', 'P_choke', 'FrontFluid2',\n",
       "       'FrontFluid3', 'FrontFluid4', 'FrontFluid5', 'FrontFluid6', 'totVolInj',\n",
       "       'totStrokes', 'totVolOut', 'pitVol', 'WHP', 'volRateOut', 'dsGap',\n",
       "       'BHP', 'T_bot', 'T_top', 'mdBit', 'ecdAtPos', 'pAtPos', 'TAtPos',\n",
       "       'dsRpm', 'rop', 'xFactor', 'kFactor', 'yCalc', 'yCalcAvg', 'yMeas',\n",
       "       'Pxy', 'Pyy', 'Pa', 'Gel1', 'Gel2', 'Gel3', 'Gel4', 'Gel5', 'ShieldBHA',\n",
       "       'ShieldAnn', 'ShieldRiser', 'CtrBHA', 'CtrAnn', 'CtrRiser',\n",
       "       'CutConsBHA', 'CutConsAnn', 'CutConsRiser', 'ReynBHA', 'ReynAnn',\n",
       "       'ReynRiser', 'TaylBHA', 'TaylAnn', 'TaylRiser', 'RouseBHA', 'RouseAnn',\n",
       "       'RouseRiser', 'voidShoe', 'voidAtBha', 'cutSt', 'vDev', 'pDev',\n",
       "       'mTotMud', 'mFreeGas', 'mDGas', 'qLoss', 'mLost', 'XFactor',\n",
       "       'DSXFactor', 'DensityIn', 'DensityOut'],\n",
       "      dtype='object')"
      ]
     },
     "execution_count": 5,
     "metadata": {},
     "output_type": "execute_result"
    }
   ],
   "source": [
    "# Getting the indices for the model data right\n",
    "start_date = '2020-08-13 16:20:00+00:00'\n",
    "date_range = pd.date_range(start = start_date, periods = len(hfm_data_case_102_t), freq='10s')\n",
    "hfm_data_case_102_t.index = date_range\n",
    "# hfm_data_case_102_t_obs.index = date_range\n",
    "hfm_data_case_102_t.head()\n",
    "hfm_data_case_102_t.columns"
   ]
  },
  {
   "cell_type": "code",
   "execution_count": 6,
   "metadata": {},
   "outputs": [
    {
     "name": "stdout",
     "output_type": "stream",
     "text": [
      "12000 12000\n"
     ]
    },
    {
     "data": {
      "text/html": [
       "<div>\n",
       "<style scoped>\n",
       "    .dataframe tbody tr th:only-of-type {\n",
       "        vertical-align: middle;\n",
       "    }\n",
       "\n",
       "    .dataframe tbody tr th {\n",
       "        vertical-align: top;\n",
       "    }\n",
       "\n",
       "    .dataframe thead th {\n",
       "        text-align: right;\n",
       "    }\n",
       "</style>\n",
       "<table border=\"1\" class=\"dataframe\">\n",
       "  <thead>\n",
       "    <tr style=\"text-align: right;\">\n",
       "      <th></th>\n",
       "      <th>WOB</th>\n",
       "      <th>HKLD</th>\n",
       "      <th>MUD_FLOW_OUT</th>\n",
       "      <th>BLOCKPOS</th>\n",
       "      <th>ROP</th>\n",
       "      <th>TORQ</th>\n",
       "      <th>MUD_FLOW_IN</th>\n",
       "      <th>MUD_DENS_OUT</th>\n",
       "      <th>PUMP_PRESS</th>\n",
       "      <th>PIT_TOT</th>\n",
       "      <th>...</th>\n",
       "      <th>D1AX-Relog</th>\n",
       "      <th>D1AY-Relog</th>\n",
       "      <th>PWPI-Relog</th>\n",
       "      <th>EAAF-Relog</th>\n",
       "      <th>DGRCC-Relog</th>\n",
       "      <th>PW16-Relog</th>\n",
       "      <th>D1SS-Relog</th>\n",
       "      <th>ALCDH-Relog</th>\n",
       "      <th>RDGDTVSS-Relog</th>\n",
       "      <th>D1AZ-Relog</th>\n",
       "    </tr>\n",
       "    <tr>\n",
       "      <th>TIME</th>\n",
       "      <th></th>\n",
       "      <th></th>\n",
       "      <th></th>\n",
       "      <th></th>\n",
       "      <th></th>\n",
       "      <th></th>\n",
       "      <th></th>\n",
       "      <th></th>\n",
       "      <th></th>\n",
       "      <th></th>\n",
       "      <th></th>\n",
       "      <th></th>\n",
       "      <th></th>\n",
       "      <th></th>\n",
       "      <th></th>\n",
       "      <th></th>\n",
       "      <th></th>\n",
       "      <th></th>\n",
       "      <th></th>\n",
       "      <th></th>\n",
       "      <th></th>\n",
       "    </tr>\n",
       "  </thead>\n",
       "  <tbody>\n",
       "    <tr>\n",
       "      <th>2020-08-13 16:20:10+00:00</th>\n",
       "      <td>0.0</td>\n",
       "      <td>9.693974e+05</td>\n",
       "      <td>0.0</td>\n",
       "      <td>37.427332</td>\n",
       "      <td>0.0</td>\n",
       "      <td>34.091530</td>\n",
       "      <td>0.0</td>\n",
       "      <td>1158.730149</td>\n",
       "      <td>253639.163971</td>\n",
       "      <td>153.343582</td>\n",
       "      <td>...</td>\n",
       "      <td>1.2</td>\n",
       "      <td>1.2</td>\n",
       "      <td>390.912506</td>\n",
       "      <td>1.296844</td>\n",
       "      <td>35.94529</td>\n",
       "      <td>4180.0</td>\n",
       "      <td>125.0</td>\n",
       "      <td>0.0</td>\n",
       "      <td>80.0</td>\n",
       "      <td>15.2</td>\n",
       "    </tr>\n",
       "    <tr>\n",
       "      <th>2020-08-13 16:20:20+00:00</th>\n",
       "      <td>0.0</td>\n",
       "      <td>1.082254e+06</td>\n",
       "      <td>0.0</td>\n",
       "      <td>37.062952</td>\n",
       "      <td>0.0</td>\n",
       "      <td>32.754644</td>\n",
       "      <td>0.0</td>\n",
       "      <td>1158.730149</td>\n",
       "      <td>253203.716278</td>\n",
       "      <td>153.248840</td>\n",
       "      <td>...</td>\n",
       "      <td>1.2</td>\n",
       "      <td>1.2</td>\n",
       "      <td>390.912506</td>\n",
       "      <td>1.296844</td>\n",
       "      <td>35.94529</td>\n",
       "      <td>4180.0</td>\n",
       "      <td>125.0</td>\n",
       "      <td>0.0</td>\n",
       "      <td>80.0</td>\n",
       "      <td>15.2</td>\n",
       "    </tr>\n",
       "    <tr>\n",
       "      <th>2020-08-13 16:20:30+00:00</th>\n",
       "      <td>0.0</td>\n",
       "      <td>1.150152e+06</td>\n",
       "      <td>0.0</td>\n",
       "      <td>27.982082</td>\n",
       "      <td>0.0</td>\n",
       "      <td>37.037300</td>\n",
       "      <td>0.0</td>\n",
       "      <td>1151.643992</td>\n",
       "      <td>254392.375946</td>\n",
       "      <td>153.248840</td>\n",
       "      <td>...</td>\n",
       "      <td>1.2</td>\n",
       "      <td>1.2</td>\n",
       "      <td>390.912506</td>\n",
       "      <td>1.296844</td>\n",
       "      <td>35.94529</td>\n",
       "      <td>4180.0</td>\n",
       "      <td>125.0</td>\n",
       "      <td>0.0</td>\n",
       "      <td>80.0</td>\n",
       "      <td>15.2</td>\n",
       "    </tr>\n",
       "    <tr>\n",
       "      <th>2020-08-13 16:20:40+00:00</th>\n",
       "      <td>0.0</td>\n",
       "      <td>1.178021e+06</td>\n",
       "      <td>0.0</td>\n",
       "      <td>10.258865</td>\n",
       "      <td>0.0</td>\n",
       "      <td>59.544824</td>\n",
       "      <td>0.0</td>\n",
       "      <td>1151.643992</td>\n",
       "      <td>258809.695244</td>\n",
       "      <td>153.248840</td>\n",
       "      <td>...</td>\n",
       "      <td>1.2</td>\n",
       "      <td>1.2</td>\n",
       "      <td>390.912506</td>\n",
       "      <td>1.296844</td>\n",
       "      <td>35.94529</td>\n",
       "      <td>4180.0</td>\n",
       "      <td>125.0</td>\n",
       "      <td>0.0</td>\n",
       "      <td>80.0</td>\n",
       "      <td>15.2</td>\n",
       "    </tr>\n",
       "    <tr>\n",
       "      <th>2020-08-13 16:20:50+00:00</th>\n",
       "      <td>0.0</td>\n",
       "      <td>1.137403e+06</td>\n",
       "      <td>0.0</td>\n",
       "      <td>1.322652</td>\n",
       "      <td>0.0</td>\n",
       "      <td>71.082319</td>\n",
       "      <td>0.0</td>\n",
       "      <td>1151.643992</td>\n",
       "      <td>258164.296150</td>\n",
       "      <td>153.222122</td>\n",
       "      <td>...</td>\n",
       "      <td>1.2</td>\n",
       "      <td>1.2</td>\n",
       "      <td>390.912506</td>\n",
       "      <td>1.296844</td>\n",
       "      <td>35.94529</td>\n",
       "      <td>4180.0</td>\n",
       "      <td>125.0</td>\n",
       "      <td>0.0</td>\n",
       "      <td>80.0</td>\n",
       "      <td>15.2</td>\n",
       "    </tr>\n",
       "  </tbody>\n",
       "</table>\n",
       "<p>5 rows × 188 columns</p>\n",
       "</div>"
      ],
      "text/plain": [
       "                           WOB          HKLD  MUD_FLOW_OUT   BLOCKPOS  ROP  \\\n",
       "TIME                                                                         \n",
       "2020-08-13 16:20:10+00:00  0.0  9.693974e+05           0.0  37.427332  0.0   \n",
       "2020-08-13 16:20:20+00:00  0.0  1.082254e+06           0.0  37.062952  0.0   \n",
       "2020-08-13 16:20:30+00:00  0.0  1.150152e+06           0.0  27.982082  0.0   \n",
       "2020-08-13 16:20:40+00:00  0.0  1.178021e+06           0.0  10.258865  0.0   \n",
       "2020-08-13 16:20:50+00:00  0.0  1.137403e+06           0.0   1.322652  0.0   \n",
       "\n",
       "                                TORQ  MUD_FLOW_IN  MUD_DENS_OUT  \\\n",
       "TIME                                                              \n",
       "2020-08-13 16:20:10+00:00  34.091530          0.0   1158.730149   \n",
       "2020-08-13 16:20:20+00:00  32.754644          0.0   1158.730149   \n",
       "2020-08-13 16:20:30+00:00  37.037300          0.0   1151.643992   \n",
       "2020-08-13 16:20:40+00:00  59.544824          0.0   1151.643992   \n",
       "2020-08-13 16:20:50+00:00  71.082319          0.0   1151.643992   \n",
       "\n",
       "                              PUMP_PRESS     PIT_TOT  ...  D1AX-Relog  \\\n",
       "TIME                                                  ...               \n",
       "2020-08-13 16:20:10+00:00  253639.163971  153.343582  ...         1.2   \n",
       "2020-08-13 16:20:20+00:00  253203.716278  153.248840  ...         1.2   \n",
       "2020-08-13 16:20:30+00:00  254392.375946  153.248840  ...         1.2   \n",
       "2020-08-13 16:20:40+00:00  258809.695244  153.248840  ...         1.2   \n",
       "2020-08-13 16:20:50+00:00  258164.296150  153.222122  ...         1.2   \n",
       "\n",
       "                           D1AY-Relog  PWPI-Relog  EAAF-Relog  DGRCC-Relog  \\\n",
       "TIME                                                                         \n",
       "2020-08-13 16:20:10+00:00         1.2  390.912506    1.296844     35.94529   \n",
       "2020-08-13 16:20:20+00:00         1.2  390.912506    1.296844     35.94529   \n",
       "2020-08-13 16:20:30+00:00         1.2  390.912506    1.296844     35.94529   \n",
       "2020-08-13 16:20:40+00:00         1.2  390.912506    1.296844     35.94529   \n",
       "2020-08-13 16:20:50+00:00         1.2  390.912506    1.296844     35.94529   \n",
       "\n",
       "                           PW16-Relog  D1SS-Relog  ALCDH-Relog  \\\n",
       "TIME                                                             \n",
       "2020-08-13 16:20:10+00:00      4180.0       125.0          0.0   \n",
       "2020-08-13 16:20:20+00:00      4180.0       125.0          0.0   \n",
       "2020-08-13 16:20:30+00:00      4180.0       125.0          0.0   \n",
       "2020-08-13 16:20:40+00:00      4180.0       125.0          0.0   \n",
       "2020-08-13 16:20:50+00:00      4180.0       125.0          0.0   \n",
       "\n",
       "                           RDGDTVSS-Relog  D1AZ-Relog  \n",
       "TIME                                                   \n",
       "2020-08-13 16:20:10+00:00            80.0        15.2  \n",
       "2020-08-13 16:20:20+00:00            80.0        15.2  \n",
       "2020-08-13 16:20:30+00:00            80.0        15.2  \n",
       "2020-08-13 16:20:40+00:00            80.0        15.2  \n",
       "2020-08-13 16:20:50+00:00            80.0        15.2  \n",
       "\n",
       "[5 rows x 188 columns]"
      ]
     },
     "execution_count": 6,
     "metadata": {},
     "output_type": "execute_result"
    }
   ],
   "source": [
    "print(len(sensor_data_case_102), len(hfm_data_case_102_t))\n",
    "sensor_data_case_102.head()"
   ]
  },
  {
   "cell_type": "code",
   "execution_count": 7,
   "metadata": {},
   "outputs": [],
   "source": [
    "\n",
    "# sensor_data_case_102, hfm_data_case_102_t = get_active_drilling_data(sensor_data_case_102, hfm_data_case_102_t, include_rop_zeros=True)\n",
    "# Wait to get obs data. Not sure if it is necassary\n",
    "# hfm_data_case_102_t_obs = hfm_data_case_102_t_obs.loc[hfm_data_case_102_t.index]"
   ]
  },
  {
   "cell_type": "code",
   "execution_count": 8,
   "metadata": {},
   "outputs": [
    {
     "name": "stdout",
     "output_type": "stream",
     "text": [
      "12000 12000 12000\n"
     ]
    }
   ],
   "source": [
    "print(len(sensor_data_case_102), len(hfm_data_case_102_t),len(hfm_data_case_102_t_obs))\n",
    "hfm_data_case_102_t.index = sensor_data_case_102.index\n",
    "hfm_data_case_102_t_obs.index = sensor_data_case_102.index"
   ]
  },
  {
   "cell_type": "code",
   "execution_count": 9,
   "metadata": {},
   "outputs": [],
   "source": [
    "min_depth = 0 \n",
    "max_depth = 5820\n",
    "\n",
    "depth_data =  hfm_data_case_102_z[0]\n",
    "depth_data_columns = hfm_data_case_102_z[1] "
   ]
  },
  {
   "cell_type": "code",
   "execution_count": 10,
   "metadata": {},
   "outputs": [],
   "source": [
    "asm_sensor_1 = sensor_data_case_102[\"ASMDEP1-T\"]\n",
    "asm_sensor_1 = asm_sensor_1.iloc[1:]"
   ]
  },
  {
   "cell_type": "code",
   "execution_count": 11,
   "metadata": {},
   "outputs": [],
   "source": [
    "values_for_position = extract_time_series_from_depth_data_for_given_variables(depth_data=depth_data, position_for_time_series=asm_sensor_1.values,columns=depth_data_columns)"
   ]
  },
  {
   "cell_type": "code",
   "execution_count": 12,
   "metadata": {},
   "outputs": [
    {
     "data": {
      "image/png": "[encoded data removed]",
      "text/plain": [
       "<Figure size 640x480 with 1 Axes>"
      ]
     },
     "metadata": {},
     "output_type": "display_data"
    }
   ],
   "source": [
    "plt.plot(values_for_position[\"reyn\"])\n",
    "plt.show()"
   ]
  },
  {
   "cell_type": "code",
   "execution_count": 13,
   "metadata": {},
   "outputs": [
    {
     "name": "stderr",
     "output_type": "stream",
     "text": [
      "C:\\Users\\thomaswi\\AppData\\Local\\Temp\\ipykernel_1232\\3727425899.py:13: RuntimeWarning: divide by zero encountered in divide\n",
      "  fanning = DH * pressure_gradient / (2 * fluid_density * liquid_velocities**2)\n",
      "C:\\Users\\thomaswi\\AppData\\Local\\Temp\\ipykernel_1232\\3727425899.py:13: RuntimeWarning: invalid value encountered in divide\n",
      "  fanning = DH * pressure_gradient / (2 * fluid_density * liquid_velocities**2)\n"
     ]
    }
   ],
   "source": [
    "\n",
    "# m / s^2\n",
    "gravitational_constant = 9.80\n",
    "# m\n",
    "DH = 0.06985\n",
    "# m\n",
    "charecteristic_length = 0\n",
    "liquid_velocities = values_for_position[\"vL\"]\n",
    "pressure_gradient = values_for_position[\"dpf\"]\n",
    "# Unsure if this densisty value is the correct one\n",
    "fluid_density = values_for_position[\"avgDensity\"]\n",
    "pressure = values_for_position[\"pOut/pBar\"]\n",
    "# Value blows up when there is little flow. Don't think this will be a problem during steady state conditions\n",
    "fanning = DH * pressure_gradient / (2 * fluid_density * liquid_velocities**2)\n",
    "values_for_position[\"Friction factor\"] = fanning\n"
   ]
  },
  {
   "cell_type": "code",
   "execution_count": 14,
   "metadata": {},
   "outputs": [
    {
     "name": "stderr",
     "output_type": "stream",
     "text": [
      "c:\\Users\\thomaswi\\AppData\\Local\\miniconda3\\envs\\master_thesis\\Lib\\site-packages\\pandas\\core\\arraylike.py:399: RuntimeWarning: invalid value encountered in arccos\n",
      "  result = getattr(ufunc, method)(*inputs, **kwargs)\n"
     ]
    }
   ],
   "source": [
    "inclination = np.arccos(hfm_data_case_102_t_obs[\"TvdAtPpos1\"].diff() /  hfm_data_case_102_t[\"mdBit\"].diff()) * 180 / np.pi"
   ]
  },
  {
   "cell_type": "code",
   "execution_count": 15,
   "metadata": {},
   "outputs": [
    {
     "data": {
      "text/plain": [
       "[<matplotlib.lines.Line2D at 0x228526d4f50>]"
      ]
     },
     "execution_count": 15,
     "metadata": {},
     "output_type": "execute_result"
    },
    {
     "data": {
      "image/png": "[encoded data removed]",
      "text/plain": [
       "<Figure size 640x480 with 1 Axes>"
      ]
     },
     "metadata": {},
     "output_type": "display_data"
    }
   ],
   "source": [
    "# Visual inspection provides us with the knowledge that the inclination is \n",
    "# 90 degrees during the entire drilling operation\n",
    "\n",
    "plt.plot(inclination.values)\n"
   ]
  },
  {
   "cell_type": "code",
   "execution_count": 16,
   "metadata": {},
   "outputs": [],
   "source": [
    "# These are the transients\n",
    "indices_case_102 = [1152,2883,3364,4473,4800]"
   ]
  },
  {
   "cell_type": "code",
   "execution_count": 17,
   "metadata": {},
   "outputs": [],
   "source": [
    "values_for_position_df = pd.DataFrame(values_for_position)\n",
    "sensor_data_case_102 = sensor_data_case_102.iloc[1:]\n",
    "values_for_position_df.index = sensor_data_case_102.index\n",
    "_, df_simulated = get_active_drilling_data(sensor_data_case_102, sim_df=hfm_data_case_102_t_obs ,include_rop_zeros=True)\n",
    "drilling_sensor_data_case_102, values_for_position_df = get_active_drilling_data(sensor_data_case_102, sim_df=values_for_position_df ,include_rop_zeros=True)"
   ]
  },
  {
   "cell_type": "code",
   "execution_count": 18,
   "metadata": {},
   "outputs": [
    {
     "name": "stdout",
     "output_type": "stream",
     "text": [
      "5942\n"
     ]
    }
   ],
   "source": [
    "print(len(drilling_sensor_data_case_102))"
   ]
  },
  {
   "cell_type": "code",
   "execution_count": 19,
   "metadata": {},
   "outputs": [
    {
     "data": {
      "text/html": [
       "<div>\n",
       "<style scoped>\n",
       "    .dataframe tbody tr th:only-of-type {\n",
       "        vertical-align: middle;\n",
       "    }\n",
       "\n",
       "    .dataframe tbody tr th {\n",
       "        vertical-align: top;\n",
       "    }\n",
       "\n",
       "    .dataframe thead th {\n",
       "        text-align: right;\n",
       "    }\n",
       "</style>\n",
       "<table border=\"1\" class=\"dataframe\">\n",
       "  <thead>\n",
       "    <tr style=\"text-align: right;\">\n",
       "      <th></th>\n",
       "      <th>Temperature</th>\n",
       "      <th>Pressure</th>\n",
       "      <th>Consistency index (K)</th>\n",
       "      <th>Yield stress (tau_y)</th>\n",
       "      <th>Flow behaviour index (n)</th>\n",
       "    </tr>\n",
       "  </thead>\n",
       "  <tbody>\n",
       "    <tr>\n",
       "      <th>0</th>\n",
       "      <td>50.0</td>\n",
       "      <td>1.0</td>\n",
       "      <td>0.902249</td>\n",
       "      <td>0.064411</td>\n",
       "      <td>0.796957</td>\n",
       "    </tr>\n",
       "    <tr>\n",
       "      <th>1</th>\n",
       "      <td>50.0</td>\n",
       "      <td>103.0</td>\n",
       "      <td>1.145990</td>\n",
       "      <td>0.038647</td>\n",
       "      <td>0.887717</td>\n",
       "    </tr>\n",
       "    <tr>\n",
       "      <th>2</th>\n",
       "      <td>70.0</td>\n",
       "      <td>138.0</td>\n",
       "      <td>1.363140</td>\n",
       "      <td>0.054337</td>\n",
       "      <td>0.819334</td>\n",
       "    </tr>\n",
       "    <tr>\n",
       "      <th>3</th>\n",
       "      <td>70.0</td>\n",
       "      <td>172.0</td>\n",
       "      <td>1.357320</td>\n",
       "      <td>0.056890</td>\n",
       "      <td>0.820349</td>\n",
       "    </tr>\n",
       "    <tr>\n",
       "      <th>4</th>\n",
       "      <td>100.0</td>\n",
       "      <td>207.0</td>\n",
       "      <td>1.656580</td>\n",
       "      <td>0.072227</td>\n",
       "      <td>0.772995</td>\n",
       "    </tr>\n",
       "    <tr>\n",
       "      <th>5</th>\n",
       "      <td>100.0</td>\n",
       "      <td>241.0</td>\n",
       "      <td>1.593770</td>\n",
       "      <td>0.057289</td>\n",
       "      <td>0.814421</td>\n",
       "    </tr>\n",
       "    <tr>\n",
       "      <th>6</th>\n",
       "      <td>120.0</td>\n",
       "      <td>276.0</td>\n",
       "      <td>1.530710</td>\n",
       "      <td>0.071310</td>\n",
       "      <td>0.768217</td>\n",
       "    </tr>\n",
       "    <tr>\n",
       "      <th>7</th>\n",
       "      <td>120.0</td>\n",
       "      <td>310.0</td>\n",
       "      <td>1.500920</td>\n",
       "      <td>0.050376</td>\n",
       "      <td>0.821522</td>\n",
       "    </tr>\n",
       "    <tr>\n",
       "      <th>8</th>\n",
       "      <td>120.0</td>\n",
       "      <td>345.0</td>\n",
       "      <td>1.350200</td>\n",
       "      <td>0.051985</td>\n",
       "      <td>0.806962</td>\n",
       "    </tr>\n",
       "    <tr>\n",
       "      <th>9</th>\n",
       "      <td>120.0</td>\n",
       "      <td>414.0</td>\n",
       "      <td>1.348380</td>\n",
       "      <td>0.047958</td>\n",
       "      <td>0.827776</td>\n",
       "    </tr>\n",
       "  </tbody>\n",
       "</table>\n",
       "</div>"
      ],
      "text/plain": [
       "   Temperature  Pressure  Consistency index (K)  Yield stress (tau_y)  \\\n",
       "0         50.0       1.0               0.902249              0.064411   \n",
       "1         50.0     103.0               1.145990              0.038647   \n",
       "2         70.0     138.0               1.363140              0.054337   \n",
       "3         70.0     172.0               1.357320              0.056890   \n",
       "4        100.0     207.0               1.656580              0.072227   \n",
       "5        100.0     241.0               1.593770              0.057289   \n",
       "6        120.0     276.0               1.530710              0.071310   \n",
       "7        120.0     310.0               1.500920              0.050376   \n",
       "8        120.0     345.0               1.350200              0.051985   \n",
       "9        120.0     414.0               1.348380              0.047958   \n",
       "\n",
       "   Flow behaviour index (n)  \n",
       "0                  0.796957  \n",
       "1                  0.887717  \n",
       "2                  0.819334  \n",
       "3                  0.820349  \n",
       "4                  0.772995  \n",
       "5                  0.814421  \n",
       "6                  0.768217  \n",
       "7                  0.821522  \n",
       "8                  0.806962  \n",
       "9                  0.827776  "
      ]
     },
     "execution_count": 19,
     "metadata": {},
     "output_type": "execute_result"
    }
   ],
   "source": [
    "hb_parameters = get_herschel_bulkley_parameters_from_rheology_file(RHEOLOGY_DATA_CASE_102_PATH) \n",
    "hb_parameters.head(11)    "
   ]
  },
  {
   "cell_type": "code",
   "execution_count": 20,
   "metadata": {},
   "outputs": [
    {
     "name": "stdout",
     "output_type": "stream",
     "text": [
      "Min and max temp:  23.877471322332507 95.64866666666667\n",
      "Min and max pressure:  32.01273548562127 293.6166666666667\n",
      "11999\n",
      "5942\n"
     ]
    }
   ],
   "source": [
    "values_for_position_df.head()\n",
    "yield_stress = []\n",
    "consistency_index = []\n",
    "flow_behaviour_index = []\n",
    "temperature_regions = values_for_position_df[\"TOut\"].apply(lambda x: 2 if x > 85 else (1 if x > 60 else 0))\n",
    "hb_parameters_for_case = np.array([hb_parameters.loc[5] if t_region == 2 else (hb_parameters.loc[3] if t_region == 1 else hb_parameters.loc[1]) for t_region in temperature_regions])\n",
    "\n",
    "print('Min and max temp: ',values_for_position_df[\"TOut\"].min(),values_for_position_df[\"TOut\"].max())\n",
    "print('Min and max pressure: ',values_for_position_df[\"pOut/pBar\"].min(),values_for_position_df[\"pOut/pBar\"].max()) \n",
    "\n",
    "print(len(liquid_velocities))\n",
    "print(len(hb_parameters_for_case))\n",
    "    "
   ]
  },
  {
   "cell_type": "code",
   "execution_count": 21,
   "metadata": {},
   "outputs": [
    {
     "name": "stderr",
     "output_type": "stream",
     "text": [
      "C:\\Users\\thomaswi\\AppData\\Local\\Temp\\ipykernel_1232\\1973994747.py:2: RuntimeWarning: invalid value encountered in power\n",
      "  values_for_position_df[\"Bingham number\"]= np.array([hb_parameters_for_case[idx,-2] /(hb_parameters_for_case[idx,-3] * (2*U/DH)**hb_parameters_for_case[idx,-1]) for idx, U in enumerate(values_for_position_df[\"vL\"])])\n"
     ]
    }
   ],
   "source": [
    "# Adding new parameters and interaction terms\n",
    "values_for_position_df[\"Bingham number\"]= np.array([hb_parameters_for_case[idx,-2] /(hb_parameters_for_case[idx,-3] * (2*U/DH)**hb_parameters_for_case[idx,-1]) for idx, U in enumerate(values_for_position_df[\"vL\"])])"
   ]
  },
  {
   "cell_type": "code",
   "execution_count": 22,
   "metadata": {},
   "outputs": [],
   "source": [
    "# The annulus is assumed fully conccentric when inclination is 90 degrees\n",
    "variables_1 = [\"reyn\",\"tayl\",\"Bingham number\",\"Friction factor\", \"rouseNum\", \"shieldsNum\"]\n",
    "variables = variables_1\n",
    "training_features, training_targets, other_variables = get_training_dataset_from_field_data_transients(df=values_for_position_df,df_simulated=df_simulated,df_sensor = drilling_sensor_data_case_102,target = \"ASMECD1-T\",variables=variables, indices = indices_case_102, window = 20)\n"
   ]
  },
  {
   "cell_type": "code",
   "execution_count": 23,
   "metadata": {},
   "outputs": [
    {
     "data": {
      "text/plain": [
       "[<matplotlib.lines.Line2D at 0x2285278c4a0>]"
      ]
     },
     "execution_count": 23,
     "metadata": {},
     "output_type": "execute_result"
    },
    {
     "data": {
      "image/png": "[encoded data removed]",
      "text/plain": [
       "<Figure size 640x480 with 1 Axes>"
      ]
     },
     "metadata": {},
     "output_type": "display_data"
    }
   ],
   "source": [
    "plt.plot(training_targets[0,:])"
   ]
  },
  {
   "cell_type": "code",
   "execution_count": 24,
   "metadata": {},
   "outputs": [],
   "source": [
    "with open(FILE_PATH_TRANSIENT_TRAINING_DATA_102b_FEATURES, 'wb') as file:\n",
    "    pickle.dump(training_features, file)\n",
    "\n",
    "with open(FILE_PATH_TRANSIENT_TRAINING_DATA_102b_TARGETS, 'wb') as file:\n",
    "    pickle.dump(training_targets, file)\n",
    "\n",
    "with open(FILE_PATH_TRANSIENT_OTHER_VARIABLES_102b, 'wb') as file:\n",
    "    pickle.dump(other_variables, file)"
   ]
  }
 ],
 "metadata": {
  "kernelspec": {
   "display_name": "master_thesis",
   "language": "python",
   "name": "python3"
  },
  "language_info": {
   "codemirror_mode": {
    "name": "ipython",
    "version": 3
   },
   "file_extension": ".py",
   "mimetype": "text/x-python",
   "name": "python",
   "nbconvert_exporter": "python",
   "pygments_lexer": "ipython3",
   "version": "3.12.6"
  }
 },
 "nbformat": 4,
 "nbformat_minor": 2
}
